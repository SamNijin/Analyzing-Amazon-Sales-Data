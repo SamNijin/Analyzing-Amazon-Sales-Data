{
 "cells": [
  {
   "cell_type": "markdown",
   "id": "9d1ff09f-831a-4a49-a8f3-20aec9fc9855",
   "metadata": {},
   "source": [
    "## Importing the libraries"
   ]
  },
  {
   "cell_type": "code",
   "execution_count": 1,
   "id": "7c6be4c6-e7eb-41e4-82e0-21e5924ea959",
   "metadata": {},
   "outputs": [],
   "source": [
    "import pandas as pd\n",
    "import numpy as np"
   ]
  },
  {
   "cell_type": "markdown",
   "id": "4f618c46-847f-4823-9348-8e2dcca9a5c2",
   "metadata": {},
   "source": [
    "## Reading the dataset"
   ]
  },
  {
   "cell_type": "code",
   "execution_count": 2,
   "id": "38c746fd-0a41-45fa-8db1-a22a97a76f21",
   "metadata": {},
   "outputs": [
    {
     "data": {
      "text/html": [
       "<div>\n",
       "<style scoped>\n",
       "    .dataframe tbody tr th:only-of-type {\n",
       "        vertical-align: middle;\n",
       "    }\n",
       "\n",
       "    .dataframe tbody tr th {\n",
       "        vertical-align: top;\n",
       "    }\n",
       "\n",
       "    .dataframe thead th {\n",
       "        text-align: right;\n",
       "    }\n",
       "</style>\n",
       "<table border=\"1\" class=\"dataframe\">\n",
       "  <thead>\n",
       "    <tr style=\"text-align: right;\">\n",
       "      <th></th>\n",
       "      <th>Region</th>\n",
       "      <th>Country</th>\n",
       "      <th>Item Type</th>\n",
       "      <th>Sales Channel</th>\n",
       "      <th>Order Priority</th>\n",
       "      <th>Order Date</th>\n",
       "      <th>Order ID</th>\n",
       "      <th>Ship Date</th>\n",
       "      <th>Units Sold</th>\n",
       "      <th>Unit Price</th>\n",
       "      <th>Unit Cost</th>\n",
       "      <th>Total Revenue</th>\n",
       "      <th>Total Cost</th>\n",
       "      <th>Total Profit</th>\n",
       "    </tr>\n",
       "  </thead>\n",
       "  <tbody>\n",
       "    <tr>\n",
       "      <th>0</th>\n",
       "      <td>Australia and Oceania</td>\n",
       "      <td>Tuvalu</td>\n",
       "      <td>Baby Food</td>\n",
       "      <td>Offline</td>\n",
       "      <td>H</td>\n",
       "      <td>05-28-2010</td>\n",
       "      <td>669165933</td>\n",
       "      <td>6/27/2010</td>\n",
       "      <td>9925</td>\n",
       "      <td>255.28</td>\n",
       "      <td>159.42</td>\n",
       "      <td>2533654.00</td>\n",
       "      <td>1582243.50</td>\n",
       "      <td>951410.50</td>\n",
       "    </tr>\n",
       "    <tr>\n",
       "      <th>1</th>\n",
       "      <td>Central America and the Caribbean</td>\n",
       "      <td>Grenada</td>\n",
       "      <td>Cereal</td>\n",
       "      <td>Online</td>\n",
       "      <td>C</td>\n",
       "      <td>08-22-2012</td>\n",
       "      <td>963881480</td>\n",
       "      <td>9/15/2012</td>\n",
       "      <td>2804</td>\n",
       "      <td>205.70</td>\n",
       "      <td>117.11</td>\n",
       "      <td>576782.80</td>\n",
       "      <td>328376.44</td>\n",
       "      <td>248406.36</td>\n",
       "    </tr>\n",
       "    <tr>\n",
       "      <th>2</th>\n",
       "      <td>Europe</td>\n",
       "      <td>Russia</td>\n",
       "      <td>Office Supplies</td>\n",
       "      <td>Offline</td>\n",
       "      <td>L</td>\n",
       "      <td>05-02-2014</td>\n",
       "      <td>341417157</td>\n",
       "      <td>05-08-2014</td>\n",
       "      <td>1779</td>\n",
       "      <td>651.21</td>\n",
       "      <td>524.96</td>\n",
       "      <td>1158502.59</td>\n",
       "      <td>933903.84</td>\n",
       "      <td>224598.75</td>\n",
       "    </tr>\n",
       "    <tr>\n",
       "      <th>3</th>\n",
       "      <td>Sub-Saharan Africa</td>\n",
       "      <td>Sao Tome and Principe</td>\n",
       "      <td>Fruits</td>\n",
       "      <td>Online</td>\n",
       "      <td>C</td>\n",
       "      <td>06-20-2014</td>\n",
       "      <td>514321792</td>\n",
       "      <td>07-05-2014</td>\n",
       "      <td>8102</td>\n",
       "      <td>9.33</td>\n",
       "      <td>6.92</td>\n",
       "      <td>75591.66</td>\n",
       "      <td>56065.84</td>\n",
       "      <td>19525.82</td>\n",
       "    </tr>\n",
       "    <tr>\n",
       "      <th>4</th>\n",
       "      <td>Sub-Saharan Africa</td>\n",
       "      <td>Rwanda</td>\n",
       "      <td>Office Supplies</td>\n",
       "      <td>Offline</td>\n",
       "      <td>L</td>\n",
       "      <td>02-01-2013</td>\n",
       "      <td>115456712</td>\n",
       "      <td>02-06-2013</td>\n",
       "      <td>5062</td>\n",
       "      <td>651.21</td>\n",
       "      <td>524.96</td>\n",
       "      <td>3296425.02</td>\n",
       "      <td>2657347.52</td>\n",
       "      <td>639077.50</td>\n",
       "    </tr>\n",
       "  </tbody>\n",
       "</table>\n",
       "</div>"
      ],
      "text/plain": [
       "                              Region                Country        Item Type  \\\n",
       "0              Australia and Oceania                 Tuvalu        Baby Food   \n",
       "1  Central America and the Caribbean                Grenada           Cereal   \n",
       "2                             Europe                 Russia  Office Supplies   \n",
       "3                 Sub-Saharan Africa  Sao Tome and Principe           Fruits   \n",
       "4                 Sub-Saharan Africa                 Rwanda  Office Supplies   \n",
       "\n",
       "  Sales Channel Order Priority  Order Date   Order ID   Ship Date  Units Sold  \\\n",
       "0       Offline              H  05-28-2010  669165933   6/27/2010        9925   \n",
       "1        Online              C  08-22-2012  963881480   9/15/2012        2804   \n",
       "2       Offline              L  05-02-2014  341417157  05-08-2014        1779   \n",
       "3        Online              C  06-20-2014  514321792  07-05-2014        8102   \n",
       "4       Offline              L  02-01-2013  115456712  02-06-2013        5062   \n",
       "\n",
       "   Unit Price  Unit Cost  Total Revenue  Total Cost  Total Profit  \n",
       "0      255.28     159.42     2533654.00  1582243.50     951410.50  \n",
       "1      205.70     117.11      576782.80   328376.44     248406.36  \n",
       "2      651.21     524.96     1158502.59   933903.84     224598.75  \n",
       "3        9.33       6.92       75591.66    56065.84      19525.82  \n",
       "4      651.21     524.96     3296425.02  2657347.52     639077.50  "
      ]
     },
     "execution_count": 2,
     "metadata": {},
     "output_type": "execute_result"
    }
   ],
   "source": [
    "sales_data = pd.read_csv('./dataset/Amazon Sales Records.csv')\n",
    "sales_data.head()"
   ]
  },
  {
   "cell_type": "markdown",
   "id": "936c6b7d-df1d-4a7a-9d8e-4642ae1540db",
   "metadata": {},
   "source": [
    "## Analysing Basics of dataset"
   ]
  },
  {
   "cell_type": "code",
   "execution_count": 3,
   "id": "8582957b-4566-4959-b0c3-ff963649fba6",
   "metadata": {},
   "outputs": [
    {
     "data": {
      "text/plain": [
       "(100, 14)"
      ]
     },
     "execution_count": 3,
     "metadata": {},
     "output_type": "execute_result"
    }
   ],
   "source": [
    "sales_data.shape"
   ]
  },
  {
   "cell_type": "markdown",
   "id": "2d24aa99-0d71-4f70-b257-cf19f42ca31f",
   "metadata": {},
   "source": [
    "#### It is founded that the given dataset contains 100 rows and 14 columns"
   ]
  },
  {
   "cell_type": "code",
   "execution_count": 4,
   "id": "ff1b0296-31bf-4c9c-a675-a6f6a740674e",
   "metadata": {},
   "outputs": [
    {
     "data": {
      "text/plain": [
       "Index(['Region', 'Country', 'Item Type', 'Sales Channel', 'Order Priority',\n",
       "       'Order Date', 'Order ID', 'Ship Date', 'Units Sold', 'Unit Price',\n",
       "       'Unit Cost', 'Total Revenue', 'Total Cost', 'Total Profit'],\n",
       "      dtype='object')"
      ]
     },
     "execution_count": 4,
     "metadata": {},
     "output_type": "execute_result"
    }
   ],
   "source": [
    "sales_data.columns"
   ]
  },
  {
   "cell_type": "code",
   "execution_count": 5,
   "id": "0ad6929f-9149-4901-8d2e-7a24cebe3cea",
   "metadata": {},
   "outputs": [
    {
     "data": {
      "text/html": [
       "<div>\n",
       "<style scoped>\n",
       "    .dataframe tbody tr th:only-of-type {\n",
       "        vertical-align: middle;\n",
       "    }\n",
       "\n",
       "    .dataframe tbody tr th {\n",
       "        vertical-align: top;\n",
       "    }\n",
       "\n",
       "    .dataframe thead th {\n",
       "        text-align: right;\n",
       "    }\n",
       "</style>\n",
       "<table border=\"1\" class=\"dataframe\">\n",
       "  <thead>\n",
       "    <tr style=\"text-align: right;\">\n",
       "      <th></th>\n",
       "      <th>Order ID</th>\n",
       "      <th>Units Sold</th>\n",
       "      <th>Unit Price</th>\n",
       "      <th>Unit Cost</th>\n",
       "      <th>Total Revenue</th>\n",
       "      <th>Total Cost</th>\n",
       "      <th>Total Profit</th>\n",
       "    </tr>\n",
       "  </thead>\n",
       "  <tbody>\n",
       "    <tr>\n",
       "      <th>count</th>\n",
       "      <td>1.000000e+02</td>\n",
       "      <td>100.000000</td>\n",
       "      <td>100.000000</td>\n",
       "      <td>100.000000</td>\n",
       "      <td>1.000000e+02</td>\n",
       "      <td>1.000000e+02</td>\n",
       "      <td>1.000000e+02</td>\n",
       "    </tr>\n",
       "    <tr>\n",
       "      <th>mean</th>\n",
       "      <td>5.550204e+08</td>\n",
       "      <td>5128.710000</td>\n",
       "      <td>276.761300</td>\n",
       "      <td>191.048000</td>\n",
       "      <td>1.373488e+06</td>\n",
       "      <td>9.318057e+05</td>\n",
       "      <td>4.416820e+05</td>\n",
       "    </tr>\n",
       "    <tr>\n",
       "      <th>std</th>\n",
       "      <td>2.606153e+08</td>\n",
       "      <td>2794.484562</td>\n",
       "      <td>235.592241</td>\n",
       "      <td>188.208181</td>\n",
       "      <td>1.460029e+06</td>\n",
       "      <td>1.083938e+06</td>\n",
       "      <td>4.385379e+05</td>\n",
       "    </tr>\n",
       "    <tr>\n",
       "      <th>min</th>\n",
       "      <td>1.146066e+08</td>\n",
       "      <td>124.000000</td>\n",
       "      <td>9.330000</td>\n",
       "      <td>6.920000</td>\n",
       "      <td>4.870260e+03</td>\n",
       "      <td>3.612240e+03</td>\n",
       "      <td>1.258020e+03</td>\n",
       "    </tr>\n",
       "    <tr>\n",
       "      <th>25%</th>\n",
       "      <td>3.389225e+08</td>\n",
       "      <td>2836.250000</td>\n",
       "      <td>81.730000</td>\n",
       "      <td>35.840000</td>\n",
       "      <td>2.687212e+05</td>\n",
       "      <td>1.688680e+05</td>\n",
       "      <td>1.214436e+05</td>\n",
       "    </tr>\n",
       "    <tr>\n",
       "      <th>50%</th>\n",
       "      <td>5.577086e+08</td>\n",
       "      <td>5382.500000</td>\n",
       "      <td>179.880000</td>\n",
       "      <td>107.275000</td>\n",
       "      <td>7.523144e+05</td>\n",
       "      <td>3.635664e+05</td>\n",
       "      <td>2.907680e+05</td>\n",
       "    </tr>\n",
       "    <tr>\n",
       "      <th>75%</th>\n",
       "      <td>7.907551e+08</td>\n",
       "      <td>7369.000000</td>\n",
       "      <td>437.200000</td>\n",
       "      <td>263.330000</td>\n",
       "      <td>2.212045e+06</td>\n",
       "      <td>1.613870e+06</td>\n",
       "      <td>6.358288e+05</td>\n",
       "    </tr>\n",
       "    <tr>\n",
       "      <th>max</th>\n",
       "      <td>9.940222e+08</td>\n",
       "      <td>9925.000000</td>\n",
       "      <td>668.270000</td>\n",
       "      <td>524.960000</td>\n",
       "      <td>5.997055e+06</td>\n",
       "      <td>4.509794e+06</td>\n",
       "      <td>1.719922e+06</td>\n",
       "    </tr>\n",
       "  </tbody>\n",
       "</table>\n",
       "</div>"
      ],
      "text/plain": [
       "           Order ID   Units Sold  Unit Price   Unit Cost  Total Revenue  \\\n",
       "count  1.000000e+02   100.000000  100.000000  100.000000   1.000000e+02   \n",
       "mean   5.550204e+08  5128.710000  276.761300  191.048000   1.373488e+06   \n",
       "std    2.606153e+08  2794.484562  235.592241  188.208181   1.460029e+06   \n",
       "min    1.146066e+08   124.000000    9.330000    6.920000   4.870260e+03   \n",
       "25%    3.389225e+08  2836.250000   81.730000   35.840000   2.687212e+05   \n",
       "50%    5.577086e+08  5382.500000  179.880000  107.275000   7.523144e+05   \n",
       "75%    7.907551e+08  7369.000000  437.200000  263.330000   2.212045e+06   \n",
       "max    9.940222e+08  9925.000000  668.270000  524.960000   5.997055e+06   \n",
       "\n",
       "         Total Cost  Total Profit  \n",
       "count  1.000000e+02  1.000000e+02  \n",
       "mean   9.318057e+05  4.416820e+05  \n",
       "std    1.083938e+06  4.385379e+05  \n",
       "min    3.612240e+03  1.258020e+03  \n",
       "25%    1.688680e+05  1.214436e+05  \n",
       "50%    3.635664e+05  2.907680e+05  \n",
       "75%    1.613870e+06  6.358288e+05  \n",
       "max    4.509794e+06  1.719922e+06  "
      ]
     },
     "execution_count": 5,
     "metadata": {},
     "output_type": "execute_result"
    }
   ],
   "source": [
    "sales_data.describe()"
   ]
  },
  {
   "cell_type": "markdown",
   "id": "3e814fdd-0f52-4581-8390-e85c6134f37e",
   "metadata": {},
   "source": [
    "#### It is founded that there are no negative values present in the given dataset"
   ]
  },
  {
   "cell_type": "code",
   "execution_count": 6,
   "id": "bbee7bc4-a8fc-4e35-a837-922635739a33",
   "metadata": {},
   "outputs": [
    {
     "data": {
      "text/plain": [
       "Region            0\n",
       "Country           0\n",
       "Item Type         0\n",
       "Sales Channel     0\n",
       "Order Priority    0\n",
       "Order Date        0\n",
       "Order ID          0\n",
       "Ship Date         0\n",
       "Units Sold        0\n",
       "Unit Price        0\n",
       "Unit Cost         0\n",
       "Total Revenue     0\n",
       "Total Cost        0\n",
       "Total Profit      0\n",
       "dtype: int64"
      ]
     },
     "execution_count": 6,
     "metadata": {},
     "output_type": "execute_result"
    }
   ],
   "source": [
    "sales_data.isna().sum()"
   ]
  },
  {
   "cell_type": "markdown",
   "id": "46825e67-0840-4a29-af70-18f0cfeebdac",
   "metadata": {},
   "source": [
    "#### It is found that there are no null values present in the given dataset"
   ]
  },
  {
   "cell_type": "code",
   "execution_count": null,
   "id": "f3993914-7851-4dbe-8df4-7207394c5a32",
   "metadata": {},
   "outputs": [],
   "source": []
  },
  {
   "cell_type": "code",
   "execution_count": null,
   "id": "9c924dc3-daa8-40b0-a6c0-fa5ca81574b9",
   "metadata": {},
   "outputs": [],
   "source": []
  },
  {
   "cell_type": "code",
   "execution_count": null,
   "id": "419ed051-8944-4dfe-a6e6-241e2c8c203c",
   "metadata": {},
   "outputs": [],
   "source": []
  },
  {
   "cell_type": "code",
   "execution_count": null,
   "id": "faacbcff-3dfd-4794-a886-8d4974d2954c",
   "metadata": {},
   "outputs": [],
   "source": []
  },
  {
   "cell_type": "code",
   "execution_count": null,
   "id": "4854759f-cada-4e49-9992-ef3b43cf05d5",
   "metadata": {},
   "outputs": [],
   "source": []
  }
 ],
 "metadata": {
  "kernelspec": {
   "display_name": "Python 3 (ipykernel)",
   "language": "python",
   "name": "python3"
  },
  "language_info": {
   "codemirror_mode": {
    "name": "ipython",
    "version": 3
   },
   "file_extension": ".py",
   "mimetype": "text/x-python",
   "name": "python",
   "nbconvert_exporter": "python",
   "pygments_lexer": "ipython3",
   "version": "3.9.13"
  }
 },
 "nbformat": 4,
 "nbformat_minor": 5
}
